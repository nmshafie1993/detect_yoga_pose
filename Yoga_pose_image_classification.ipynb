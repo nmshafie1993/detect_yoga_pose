{
  "nbformat": 4,
  "nbformat_minor": 0,
  "metadata": {
    "colab": {
      "name": "Yoga_pose_image_classification",
      "provenance": [],
      "collapsed_sections": [],
      "authorship_tag": "ABX9TyOpYtDMYOUrtQubbbpRVviP",
      "include_colab_link": true
    },
    "kernelspec": {
      "name": "python3",
      "display_name": "Python 3"
    },
    "accelerator": "GPU"
  },
  "cells": [
    {
      "cell_type": "markdown",
      "metadata": {
        "id": "view-in-github",
        "colab_type": "text"
      },
      "source": [
        "<a href=\"https://colab.research.google.com/github/nmshafie1993/detect_yoga_pose/blob/master/Yoga_pose_image_classification.ipynb\" target=\"_parent\"><img src=\"https://colab.research.google.com/assets/colab-badge.svg\" alt=\"Open In Colab\"/></a>"
      ]
    },
    {
      "cell_type": "code",
      "metadata": {
        "colab": {
          "base_uri": "https://localhost:8080/"
        },
        "id": "8qg78I2naTar",
        "outputId": "047fd44f-0f25-4681-d15d-14412df8c725"
      },
      "source": [
        "#loading the Libraries\r\n",
        "import math, re, os\r\n",
        "import numpy as np\r\n",
        "import pandas as pd\r\n",
        "import tensorflow as tf\r\n",
        "import pathlib\r\n",
        "import PIL\r\n",
        "import matplotlib.pyplot as plt\r\n",
        "from tensorflow.keras.preprocessing import image_dataset_from_directory\r\n",
        "from tensorflow.keras.layers import Activation, Dense, Flatten, BatchNormalization, Conv2D, MaxPool2D\r\n",
        "import tensorflow.keras.layers.experimental.preprocessing as preprocessing\r\n",
        "import shutil\r\n",
        "\r\n",
        "print(\"Tensorflow version \" + tf.__version__)"
      ],
      "execution_count": 1,
      "outputs": [
        {
          "output_type": "stream",
          "text": [
            "Tensorflow version 2.4.0\n"
          ],
          "name": "stdout"
        }
      ]
    },
    {
      "cell_type": "code",
      "metadata": {
        "colab": {
          "base_uri": "https://localhost:8080/",
          "height": 307
        },
        "id": "JN41n3oxaaqz",
        "outputId": "1ec8866e-de0a-4a18-9013-ac8d7d6de502"
      },
      "source": [
        "shutil.rmtree('/content/detect_yoga_pose')"
      ],
      "execution_count": 2,
      "outputs": [
        {
          "output_type": "error",
          "ename": "FileNotFoundError",
          "evalue": "ignored",
          "traceback": [
            "\u001b[0;31m---------------------------------------------------------------------------\u001b[0m",
            "\u001b[0;31mFileNotFoundError\u001b[0m                         Traceback (most recent call last)",
            "\u001b[0;32m<ipython-input-2-2057bd1252f2>\u001b[0m in \u001b[0;36m<module>\u001b[0;34m()\u001b[0m\n\u001b[0;32m----> 1\u001b[0;31m \u001b[0mshutil\u001b[0m\u001b[0;34m.\u001b[0m\u001b[0mrmtree\u001b[0m\u001b[0;34m(\u001b[0m\u001b[0;34m'/content/detect_yoga_pose'\u001b[0m\u001b[0;34m)\u001b[0m\u001b[0;34m\u001b[0m\u001b[0;34m\u001b[0m\u001b[0m\n\u001b[0m",
            "\u001b[0;32m/usr/lib/python3.6/shutil.py\u001b[0m in \u001b[0;36mrmtree\u001b[0;34m(path, ignore_errors, onerror)\u001b[0m\n\u001b[1;32m    475\u001b[0m             \u001b[0morig_st\u001b[0m \u001b[0;34m=\u001b[0m \u001b[0mos\u001b[0m\u001b[0;34m.\u001b[0m\u001b[0mlstat\u001b[0m\u001b[0;34m(\u001b[0m\u001b[0mpath\u001b[0m\u001b[0;34m)\u001b[0m\u001b[0;34m\u001b[0m\u001b[0;34m\u001b[0m\u001b[0m\n\u001b[1;32m    476\u001b[0m         \u001b[0;32mexcept\u001b[0m \u001b[0mException\u001b[0m\u001b[0;34m:\u001b[0m\u001b[0;34m\u001b[0m\u001b[0;34m\u001b[0m\u001b[0m\n\u001b[0;32m--> 477\u001b[0;31m             \u001b[0monerror\u001b[0m\u001b[0;34m(\u001b[0m\u001b[0mos\u001b[0m\u001b[0;34m.\u001b[0m\u001b[0mlstat\u001b[0m\u001b[0;34m,\u001b[0m \u001b[0mpath\u001b[0m\u001b[0;34m,\u001b[0m \u001b[0msys\u001b[0m\u001b[0;34m.\u001b[0m\u001b[0mexc_info\u001b[0m\u001b[0;34m(\u001b[0m\u001b[0;34m)\u001b[0m\u001b[0;34m)\u001b[0m\u001b[0;34m\u001b[0m\u001b[0;34m\u001b[0m\u001b[0m\n\u001b[0m\u001b[1;32m    478\u001b[0m             \u001b[0;32mreturn\u001b[0m\u001b[0;34m\u001b[0m\u001b[0;34m\u001b[0m\u001b[0m\n\u001b[1;32m    479\u001b[0m         \u001b[0;32mtry\u001b[0m\u001b[0;34m:\u001b[0m\u001b[0;34m\u001b[0m\u001b[0;34m\u001b[0m\u001b[0m\n",
            "\u001b[0;32m/usr/lib/python3.6/shutil.py\u001b[0m in \u001b[0;36mrmtree\u001b[0;34m(path, ignore_errors, onerror)\u001b[0m\n\u001b[1;32m    473\u001b[0m         \u001b[0;31m# lstat()/open()/fstat() trick.\u001b[0m\u001b[0;34m\u001b[0m\u001b[0;34m\u001b[0m\u001b[0;34m\u001b[0m\u001b[0m\n\u001b[1;32m    474\u001b[0m         \u001b[0;32mtry\u001b[0m\u001b[0;34m:\u001b[0m\u001b[0;34m\u001b[0m\u001b[0;34m\u001b[0m\u001b[0m\n\u001b[0;32m--> 475\u001b[0;31m             \u001b[0morig_st\u001b[0m \u001b[0;34m=\u001b[0m \u001b[0mos\u001b[0m\u001b[0;34m.\u001b[0m\u001b[0mlstat\u001b[0m\u001b[0;34m(\u001b[0m\u001b[0mpath\u001b[0m\u001b[0;34m)\u001b[0m\u001b[0;34m\u001b[0m\u001b[0;34m\u001b[0m\u001b[0m\n\u001b[0m\u001b[1;32m    476\u001b[0m         \u001b[0;32mexcept\u001b[0m \u001b[0mException\u001b[0m\u001b[0;34m:\u001b[0m\u001b[0;34m\u001b[0m\u001b[0;34m\u001b[0m\u001b[0m\n\u001b[1;32m    477\u001b[0m             \u001b[0monerror\u001b[0m\u001b[0;34m(\u001b[0m\u001b[0mos\u001b[0m\u001b[0;34m.\u001b[0m\u001b[0mlstat\u001b[0m\u001b[0;34m,\u001b[0m \u001b[0mpath\u001b[0m\u001b[0;34m,\u001b[0m \u001b[0msys\u001b[0m\u001b[0;34m.\u001b[0m\u001b[0mexc_info\u001b[0m\u001b[0;34m(\u001b[0m\u001b[0;34m)\u001b[0m\u001b[0;34m)\u001b[0m\u001b[0;34m\u001b[0m\u001b[0;34m\u001b[0m\u001b[0m\n",
            "\u001b[0;31mFileNotFoundError\u001b[0m: [Errno 2] No such file or directory: '/content/detect_yoga_pose'"
          ]
        }
      ]
    },
    {
      "cell_type": "code",
      "metadata": {
        "colab": {
          "base_uri": "https://localhost:8080/"
        },
        "id": "vaVb7fmHapA0",
        "outputId": "f53d7254-c277-47ec-8c91-8d07f4b4df03"
      },
      "source": [
        "#cloning the data from github\r\n",
        "!git clone \"https://github.com/nmshafie1993/detect_yoga_pose.git\""
      ],
      "execution_count": 3,
      "outputs": [
        {
          "output_type": "stream",
          "text": [
            "Cloning into 'detect_yoga_pose'...\n",
            "remote: Enumerating objects: 58, done.\u001b[K\n",
            "remote: Counting objects: 100% (58/58), done.\u001b[K\n",
            "remote: Compressing objects: 100% (43/43), done.\u001b[K\n",
            "remote: Total 1262 (delta 20), reused 44 (delta 15), pack-reused 1204\u001b[K\n",
            "Receiving objects: 100% (1262/1262), 136.70 MiB | 45.77 MiB/s, done.\n",
            "Resolving deltas: 100% (165/165), done.\n"
          ],
          "name": "stdout"
        }
      ]
    },
    {
      "cell_type": "code",
      "metadata": {
        "colab": {
          "base_uri": "https://localhost:8080/"
        },
        "id": "uDcNv2iKasR1",
        "outputId": "6e17befe-6123-4dc4-b865-7577e62878fc"
      },
      "source": [
        "ds_train_ = image_dataset_from_directory(\r\n",
        "    '/content/detect_yoga_pose/Train_Set',\r\n",
        "    labels='inferred',\r\n",
        "    label_mode='categorical',\r\n",
        "    image_size=[224, 224],\r\n",
        "    interpolation='nearest',\r\n",
        "    batch_size=64,\r\n",
        "    shuffle=True,\r\n",
        ")\r\n",
        "ds_valid_ = image_dataset_from_directory(\r\n",
        "    '/content/detect_yoga_pose/Valid_Set',\r\n",
        "    labels='inferred',\r\n",
        "    label_mode='categorical',\r\n",
        "    image_size=[224, 224],\r\n",
        "    interpolation='nearest',\r\n",
        "    batch_size=64,\r\n",
        "    shuffle=False,\r\n",
        ")"
      ],
      "execution_count": 4,
      "outputs": [
        {
          "output_type": "stream",
          "text": [
            "Found 838 files belonging to 4 classes.\n",
            "Found 40 files belonging to 4 classes.\n"
          ],
          "name": "stdout"
        }
      ]
    },
    {
      "cell_type": "code",
      "metadata": {
        "id": "vEsukL_DavXp"
      },
      "source": [
        "# Data Pipeline\r\n",
        "def convert_to_float(image, label):\r\n",
        "    image = tf.image.convert_image_dtype(image, dtype=tf.float32)\r\n",
        "    return image, label\r\n",
        "\r\n",
        "AUTOTUNE = tf.data.experimental.AUTOTUNE\r\n",
        "ds_train = (\r\n",
        "    ds_train_\r\n",
        "    .map(convert_to_float)\r\n",
        "    .cache()\r\n",
        "    .prefetch(buffer_size=AUTOTUNE)\r\n",
        ")\r\n",
        "ds_valid = (\r\n",
        "    ds_valid_\r\n",
        "    .map(convert_to_float)\r\n",
        "    .cache()\r\n",
        "    .prefetch(buffer_size=AUTOTUNE)\r\n",
        ")"
      ],
      "execution_count": 5,
      "outputs": []
    },
    {
      "cell_type": "code",
      "metadata": {
        "id": "q1lEDbmkazJ7"
      },
      "source": [
        "from keras.models import Sequential\r\n",
        "model = Sequential([\r\n",
        "        Conv2D(filters = 32, kernel_size = (3,3), activation = 'relu', padding = 'same', input_shape = (224,224,3)),\r\n",
        "        MaxPool2D(pool_size = (2,2), strides = 2),\r\n",
        "        Conv2D(filters = 64, kernel_size = (3,3), activation = 'relu', padding = 'same'),\r\n",
        "        MaxPool2D(pool_size = (2,2), strides = 2),\r\n",
        "        Flatten(),\r\n",
        "        Dense(units =128, activation = 'relu'),\r\n",
        "        Dense(units =4, activation = 'softmax'),\r\n",
        "        \r\n",
        "])"
      ],
      "execution_count": 6,
      "outputs": []
    },
    {
      "cell_type": "code",
      "metadata": {
        "colab": {
          "base_uri": "https://localhost:8080/"
        },
        "id": "bn7cxsYWa8lf",
        "outputId": "c35dc84f-fcca-4791-e7a8-0bd5ebc63485"
      },
      "source": [
        "model.summary()"
      ],
      "execution_count": 7,
      "outputs": [
        {
          "output_type": "stream",
          "text": [
            "Model: \"sequential\"\n",
            "_________________________________________________________________\n",
            "Layer (type)                 Output Shape              Param #   \n",
            "=================================================================\n",
            "conv2d (Conv2D)              (None, 224, 224, 32)      896       \n",
            "_________________________________________________________________\n",
            "max_pooling2d (MaxPooling2D) (None, 112, 112, 32)      0         \n",
            "_________________________________________________________________\n",
            "conv2d_1 (Conv2D)            (None, 112, 112, 64)      18496     \n",
            "_________________________________________________________________\n",
            "max_pooling2d_1 (MaxPooling2 (None, 56, 56, 64)        0         \n",
            "_________________________________________________________________\n",
            "flatten (Flatten)            (None, 200704)            0         \n",
            "_________________________________________________________________\n",
            "dense (Dense)                (None, 128)               25690240  \n",
            "_________________________________________________________________\n",
            "dense_1 (Dense)              (None, 4)                 516       \n",
            "=================================================================\n",
            "Total params: 25,710,148\n",
            "Trainable params: 25,710,148\n",
            "Non-trainable params: 0\n",
            "_________________________________________________________________\n"
          ],
          "name": "stdout"
        }
      ]
    },
    {
      "cell_type": "code",
      "metadata": {
        "colab": {
          "base_uri": "https://localhost:8080/"
        },
        "id": "pTw-BZs_a_I5",
        "outputId": "0c0e7074-acf0-426f-d1ba-a27eaeec6ef5"
      },
      "source": [
        "from tensorflow.keras.optimizers import Adam\r\n",
        "\r\n",
        "model.compile(optimizer = Adam (learning_rate = 0.0001), \r\n",
        "              loss = 'categorical_crossentropy', \r\n",
        "              metrics = ['accuracy'])\r\n",
        "history = model.fit(x = ds_train, \r\n",
        "          validation_data = ds_valid, epochs = 30, \r\n",
        "          verbose = 2)\r\n"
      ],
      "execution_count": 8,
      "outputs": [
        {
          "output_type": "stream",
          "text": [
            "Epoch 1/30\n",
            "14/14 - 14s - loss: 2.0030 - accuracy: 0.2709 - val_loss: 1.6187 - val_accuracy: 0.2500\n",
            "Epoch 2/30\n",
            "14/14 - 1s - loss: 1.5136 - accuracy: 0.2792 - val_loss: 1.3772 - val_accuracy: 0.3000\n",
            "Epoch 3/30\n",
            "14/14 - 1s - loss: 1.2818 - accuracy: 0.3986 - val_loss: 1.3596 - val_accuracy: 0.3000\n",
            "Epoch 4/30\n",
            "14/14 - 1s - loss: 1.1465 - accuracy: 0.5895 - val_loss: 1.3594 - val_accuracy: 0.3250\n",
            "Epoch 5/30\n",
            "14/14 - 1s - loss: 1.0391 - accuracy: 0.6516 - val_loss: 1.3430 - val_accuracy: 0.3750\n",
            "Epoch 6/30\n",
            "14/14 - 1s - loss: 0.9394 - accuracy: 0.6850 - val_loss: 1.3170 - val_accuracy: 0.4000\n",
            "Epoch 7/30\n",
            "14/14 - 1s - loss: 0.8369 - accuracy: 0.7327 - val_loss: 1.3190 - val_accuracy: 0.4500\n",
            "Epoch 8/30\n",
            "14/14 - 1s - loss: 0.7441 - accuracy: 0.7709 - val_loss: 1.2944 - val_accuracy: 0.5250\n",
            "Epoch 9/30\n",
            "14/14 - 1s - loss: 0.6684 - accuracy: 0.8055 - val_loss: 1.3687 - val_accuracy: 0.4000\n",
            "Epoch 10/30\n",
            "14/14 - 1s - loss: 0.6041 - accuracy: 0.8067 - val_loss: 1.3784 - val_accuracy: 0.4500\n",
            "Epoch 11/30\n",
            "14/14 - 1s - loss: 0.5650 - accuracy: 0.8365 - val_loss: 1.5050 - val_accuracy: 0.3750\n",
            "Epoch 12/30\n",
            "14/14 - 1s - loss: 0.5260 - accuracy: 0.8258 - val_loss: 1.3559 - val_accuracy: 0.4000\n",
            "Epoch 13/30\n",
            "14/14 - 1s - loss: 0.5052 - accuracy: 0.8389 - val_loss: 1.3827 - val_accuracy: 0.4250\n",
            "Epoch 14/30\n",
            "14/14 - 1s - loss: 0.4962 - accuracy: 0.8473 - val_loss: 1.3865 - val_accuracy: 0.3250\n",
            "Epoch 15/30\n",
            "14/14 - 1s - loss: 0.4922 - accuracy: 0.8305 - val_loss: 1.1713 - val_accuracy: 0.5250\n",
            "Epoch 16/30\n",
            "14/14 - 1s - loss: 0.4457 - accuracy: 0.8628 - val_loss: 1.1942 - val_accuracy: 0.5500\n",
            "Epoch 17/30\n",
            "14/14 - 1s - loss: 0.3851 - accuracy: 0.8950 - val_loss: 1.2574 - val_accuracy: 0.5500\n",
            "Epoch 18/30\n",
            "14/14 - 1s - loss: 0.3309 - accuracy: 0.9177 - val_loss: 1.1597 - val_accuracy: 0.5250\n",
            "Epoch 19/30\n",
            "14/14 - 1s - loss: 0.2560 - accuracy: 0.9511 - val_loss: 1.1922 - val_accuracy: 0.5750\n",
            "Epoch 20/30\n",
            "14/14 - 1s - loss: 0.2330 - accuracy: 0.9570 - val_loss: 1.1652 - val_accuracy: 0.5750\n",
            "Epoch 21/30\n",
            "14/14 - 1s - loss: 0.2056 - accuracy: 0.9654 - val_loss: 1.1470 - val_accuracy: 0.5500\n",
            "Epoch 22/30\n",
            "14/14 - 1s - loss: 0.1738 - accuracy: 0.9809 - val_loss: 1.1563 - val_accuracy: 0.5500\n",
            "Epoch 23/30\n",
            "14/14 - 1s - loss: 0.1532 - accuracy: 0.9833 - val_loss: 1.1534 - val_accuracy: 0.5500\n",
            "Epoch 24/30\n",
            "14/14 - 1s - loss: 0.1367 - accuracy: 0.9881 - val_loss: 1.1672 - val_accuracy: 0.6000\n",
            "Epoch 25/30\n",
            "14/14 - 1s - loss: 0.1249 - accuracy: 0.9905 - val_loss: 1.1825 - val_accuracy: 0.5750\n",
            "Epoch 26/30\n",
            "14/14 - 1s - loss: 0.1131 - accuracy: 0.9916 - val_loss: 1.1903 - val_accuracy: 0.6000\n",
            "Epoch 27/30\n",
            "14/14 - 1s - loss: 0.1020 - accuracy: 0.9952 - val_loss: 1.2022 - val_accuracy: 0.5750\n",
            "Epoch 28/30\n",
            "14/14 - 1s - loss: 0.0923 - accuracy: 0.9952 - val_loss: 1.2108 - val_accuracy: 0.5750\n",
            "Epoch 29/30\n",
            "14/14 - 1s - loss: 0.0828 - accuracy: 0.9964 - val_loss: 1.2235 - val_accuracy: 0.5500\n",
            "Epoch 30/30\n",
            "14/14 - 1s - loss: 0.0747 - accuracy: 0.9976 - val_loss: 1.2385 - val_accuracy: 0.5500\n"
          ],
          "name": "stdout"
        }
      ]
    },
    {
      "cell_type": "code",
      "metadata": {
        "colab": {
          "base_uri": "https://localhost:8080/",
          "height": 513
        },
        "id": "xdclgcVBbMMP",
        "outputId": "06bdcfb0-0aaa-4fd6-c4a9-85dc31e9ac96"
      },
      "source": [
        "import pandas as pd\r\n",
        "\r\n",
        "history_frame = pd.DataFrame(history.history)\r\n",
        "history_frame.loc[:, ['loss', 'val_loss']].plot()\r\n",
        "history_frame.loc[:, ['accuracy', 'val_accuracy']].plot();"
      ],
      "execution_count": 10,
      "outputs": [
        {
          "output_type": "display_data",
          "data": {
            "image/png": "[encoded data removed]",
            "text/plain": [
              "<Figure size 432x288 with 1 Axes>"
            ]
          },
          "metadata": {
            "tags": [],
            "needs_background": "light"
          }
        },
        {
          "output_type": "display_data",
          "data": {
            "image/png": "[encoded data removed]",
            "text/plain": [
              "<Figure size 432x288 with 1 Axes>"
            ]
          },
          "metadata": {
            "tags": [],
            "needs_background": "light"
          }
        }
      ]
    }
  ]
}