{
  "nbformat": 4,
  "nbformat_minor": 0,
  "metadata": {
    "colab": {
      "name": "Yoga_pose_image_classification",
      "provenance": [],
      "collapsed_sections": [],
      "authorship_tag": "ABX9TyNMSy21iG1H+TeRJyzzCkjE",
      "include_colab_link": true
    },
    "kernelspec": {
      "name": "python3",
      "display_name": "Python 3"
    },
    "accelerator": "GPU"
  },
  "cells": [
    {
      "cell_type": "markdown",
      "metadata": {
        "id": "view-in-github",
        "colab_type": "text"
      },
      "source": [
        "<a href=\"https://colab.research.google.com/github/nmshafie1993/detect_yoga_pose/blob/master/Yoga_pose_image_classification.ipynb\" target=\"_parent\"><img src=\"https://colab.research.google.com/assets/colab-badge.svg\" alt=\"Open In Colab\"/></a>"
      ]
    },
    {
      "cell_type": "code",
      "metadata": {
        "colab": {
          "base_uri": "https://localhost:8080/"
        },
        "id": "8qg78I2naTar",
        "outputId": "0b5bdfdb-a22b-4c5a-a574-25e2a09371d3"
      },
      "source": [
        "#loading the Libraries\r\n",
        "import math, re, os\r\n",
        "import numpy as np\r\n",
        "import pandas as pd\r\n",
        "import tensorflow as tf\r\n",
        "import pathlib\r\n",
        "import PIL\r\n",
        "import matplotlib.pyplot as plt\r\n",
        "from tensorflow.keras.preprocessing import image_dataset_from_directory\r\n",
        "from tensorflow.keras.layers import Activation, Dense, Flatten, BatchNormalization, Conv2D, MaxPool2D, Dropout\r\n",
        "import tensorflow.keras.layers.experimental.preprocessing as preprocessing\r\n",
        "import shutil\r\n",
        "\r\n",
        "print(\"Tensorflow version \" + tf.__version__)"
      ],
      "execution_count": 37,
      "outputs": [
        {
          "output_type": "stream",
          "text": [
            "Tensorflow version 2.4.1\n"
          ],
          "name": "stdout"
        }
      ]
    },
    {
      "cell_type": "code",
      "metadata": {
        "id": "JN41n3oxaaqz"
      },
      "source": [
        "shutil.rmtree('/content/detect_yoga_pose')"
      ],
      "execution_count": 38,
      "outputs": []
    },
    {
      "cell_type": "code",
      "metadata": {
        "colab": {
          "base_uri": "https://localhost:8080/"
        },
        "id": "vaVb7fmHapA0",
        "outputId": "603de2b5-8360-4703-a6fb-aa83e0443e7f"
      },
      "source": [
        "#cloning the data from github\r\n",
        "!git clone \"https://github.com/nmshafie1993/detect_yoga_pose.git\""
      ],
      "execution_count": 39,
      "outputs": [
        {
          "output_type": "stream",
          "text": [
            "Cloning into 'detect_yoga_pose'...\n",
            "remote: Enumerating objects: 69, done.\u001b[K\n",
            "remote: Counting objects: 100% (69/69), done.\u001b[K\n",
            "remote: Compressing objects: 100% (54/54), done.\u001b[K\n",
            "remote: Total 1273 (delta 25), reused 43 (delta 15), pack-reused 1204\u001b[K\n",
            "Receiving objects: 100% (1273/1273), 137.41 MiB | 44.98 MiB/s, done.\n",
            "Resolving deltas: 100% (170/170), done.\n"
          ],
          "name": "stdout"
        }
      ]
    },
    {
      "cell_type": "code",
      "metadata": {
        "colab": {
          "base_uri": "https://localhost:8080/"
        },
        "id": "uDcNv2iKasR1",
        "outputId": "bd294538-cd70-40a2-c936-70bae17ec0ea"
      },
      "source": [
        "ds_train_ = image_dataset_from_directory(\r\n",
        "    '/content/detect_yoga_pose/Train_Set',\r\n",
        "    labels='inferred',\r\n",
        "    label_mode='categorical',\r\n",
        "    image_size=[224, 224],\r\n",
        "    interpolation='nearest',\r\n",
        "    batch_size=64,\r\n",
        "    shuffle=True,\r\n",
        ")\r\n",
        "ds_valid_ = image_dataset_from_directory(\r\n",
        "    '/content/detect_yoga_pose/Valid_Set',\r\n",
        "    labels='inferred',\r\n",
        "    label_mode='categorical',\r\n",
        "    image_size=[224, 224],\r\n",
        "    interpolation='nearest',\r\n",
        "    batch_size=64,\r\n",
        "    shuffle=False,\r\n",
        ")\r\n",
        "ds_test_ = image_dataset_from_directory(\r\n",
        "    '/content/detect_yoga_pose/Test_Set',\r\n",
        "    labels='inferred',\r\n",
        "    label_mode='categorical',\r\n",
        "    image_size=[224, 224],\r\n",
        "    interpolation='nearest',\r\n",
        "    batch_size=64,\r\n",
        "    shuffle=False,\r\n",
        ")"
      ],
      "execution_count": 40,
      "outputs": [
        {
          "output_type": "stream",
          "text": [
            "Found 838 files belonging to 4 classes.\n",
            "Found 40 files belonging to 4 classes.\n",
            "Found 41 files belonging to 4 classes.\n"
          ],
          "name": "stdout"
        }
      ]
    },
    {
      "cell_type": "code",
      "metadata": {
        "colab": {
          "base_uri": "https://localhost:8080/",
          "height": 215
        },
        "id": "39qMh3LW11IE",
        "outputId": "f1c39368-19fd-4fb2-86cf-1ec69ce4136b"
      },
      "source": [
        "class_names = ds_train_.class_names\r\n",
        "print(class_names)\r\n",
        "class_names = np.array(class_names).shape\r\n",
        "class_names[1,0,0,0]"
      ],
      "execution_count": 63,
      "outputs": [
        {
          "output_type": "stream",
          "text": [
            "['bridge', 'childs', 'downwarddog', 'trianglepose']\n"
          ],
          "name": "stdout"
        },
        {
          "output_type": "error",
          "ename": "TypeError",
          "evalue": "ignored",
          "traceback": [
            "\u001b[0;31m---------------------------------------------------------------------------\u001b[0m",
            "\u001b[0;31mTypeError\u001b[0m                                 Traceback (most recent call last)",
            "\u001b[0;32m<ipython-input-63-6a8760da99a5>\u001b[0m in \u001b[0;36m<module>\u001b[0;34m()\u001b[0m\n\u001b[1;32m      2\u001b[0m \u001b[0mprint\u001b[0m\u001b[0;34m(\u001b[0m\u001b[0mclass_names\u001b[0m\u001b[0;34m)\u001b[0m\u001b[0;34m\u001b[0m\u001b[0;34m\u001b[0m\u001b[0m\n\u001b[1;32m      3\u001b[0m \u001b[0mclass_names\u001b[0m \u001b[0;34m=\u001b[0m \u001b[0mnp\u001b[0m\u001b[0;34m.\u001b[0m\u001b[0marray\u001b[0m\u001b[0;34m(\u001b[0m\u001b[0mclass_names\u001b[0m\u001b[0;34m)\u001b[0m\u001b[0;34m.\u001b[0m\u001b[0mshape\u001b[0m\u001b[0;34m\u001b[0m\u001b[0;34m\u001b[0m\u001b[0m\n\u001b[0;32m----> 4\u001b[0;31m \u001b[0mclass_names\u001b[0m\u001b[0;34m[\u001b[0m\u001b[0;36m1\u001b[0m\u001b[0;34m,\u001b[0m\u001b[0;36m0\u001b[0m\u001b[0;34m,\u001b[0m\u001b[0;36m0\u001b[0m\u001b[0;34m,\u001b[0m \u001b[0;36m0\u001b[0m\u001b[0;34m]\u001b[0m\u001b[0;34m\u001b[0m\u001b[0;34m\u001b[0m\u001b[0m\n\u001b[0m",
            "\u001b[0;31mTypeError\u001b[0m: tuple indices must be integers or slices, not tuple"
          ]
        }
      ]
    },
    {
      "cell_type": "code",
      "metadata": {
        "colab": {
          "base_uri": "https://localhost:8080/"
        },
        "id": "7dc7lfbi3ZRv",
        "outputId": "95cf3088-38fb-4d72-837b-76b57b7e3acd"
      },
      "source": [
        "for image_batch, labels_batch in ds_train_:\r\n",
        "  print(image_batch.shape)\r\n",
        "  print(labels_batch.shape)\r\n",
        "  break"
      ],
      "execution_count": 42,
      "outputs": [
        {
          "output_type": "stream",
          "text": [
            "(64, 224, 224, 3)\n",
            "(64, 4)\n"
          ],
          "name": "stdout"
        }
      ]
    },
    {
      "cell_type": "code",
      "metadata": {
        "id": "vEsukL_DavXp"
      },
      "source": [
        "# Data Pipeline\r\n",
        "def convert_to_float(image, label):\r\n",
        "    image = tf.image.convert_image_dtype(image, dtype=tf.float32)\r\n",
        "    return image, label\r\n",
        "\r\n",
        "AUTOTUNE = tf.data.experimental.AUTOTUNE\r\n",
        "ds_train = (\r\n",
        "    ds_train_\r\n",
        "    .map(convert_to_float)\r\n",
        "    .cache()\r\n",
        "    .prefetch(buffer_size=AUTOTUNE)\r\n",
        ")\r\n",
        "ds_valid = (\r\n",
        "    ds_valid_\r\n",
        "    .map(convert_to_float)\r\n",
        "    .cache()\r\n",
        "    .prefetch(buffer_size=AUTOTUNE)\r\n",
        ")\r\n",
        "ds_test = (\r\n",
        "    ds_test_\r\n",
        "    .map(convert_to_float)\r\n",
        "    .cache()\r\n",
        "    .prefetch(buffer_size=AUTOTUNE)\r\n",
        ")"
      ],
      "execution_count": 20,
      "outputs": []
    },
    {
      "cell_type": "code",
      "metadata": {
        "colab": {
          "base_uri": "https://localhost:8080/",
          "height": 164
        },
        "id": "O_Ep95VaFtzz",
        "outputId": "6f0eaaf7-9789-4cee-e4b0-2160aa5cb5cc"
      },
      "source": [
        "class_names[1, 0, 0, 0]"
      ],
      "execution_count": 58,
      "outputs": [
        {
          "output_type": "error",
          "ename": "TypeError",
          "evalue": "ignored",
          "traceback": [
            "\u001b[0;31m---------------------------------------------------------------------------\u001b[0m",
            "\u001b[0;31mTypeError\u001b[0m                                 Traceback (most recent call last)",
            "\u001b[0;32m<ipython-input-58-5556fb1efd15>\u001b[0m in \u001b[0;36m<module>\u001b[0;34m()\u001b[0m\n\u001b[0;32m----> 1\u001b[0;31m \u001b[0mclass_names\u001b[0m\u001b[0;34m[\u001b[0m\u001b[0;36m1\u001b[0m\u001b[0;34m,\u001b[0m \u001b[0;36m0\u001b[0m\u001b[0;34m,\u001b[0m \u001b[0;36m0\u001b[0m\u001b[0;34m,\u001b[0m \u001b[0;36m0\u001b[0m\u001b[0;34m]\u001b[0m\u001b[0;34m\u001b[0m\u001b[0;34m\u001b[0m\u001b[0m\n\u001b[0m",
            "\u001b[0;31mTypeError\u001b[0m: list indices must be integers or slices, not tuple"
          ]
        }
      ]
    },
    {
      "cell_type": "code",
      "metadata": {
        "colab": {
          "base_uri": "https://localhost:8080/"
        },
        "id": "y5hrxaziGQ0t",
        "outputId": "5332f949-c001-428e-911b-ea3f3a260d44"
      },
      "source": [
        "labels[1][1]"
      ],
      "execution_count": 54,
      "outputs": [
        {
          "output_type": "execute_result",
          "data": {
            "text/plain": [
              "<tf.Tensor: shape=(), dtype=float32, numpy=0.0>"
            ]
          },
          "metadata": {
            "tags": []
          },
          "execution_count": 54
        }
      ]
    },
    {
      "cell_type": "code",
      "metadata": {
        "id": "uX91hqjMGTLL"
      },
      "source": [
        ""
      ],
      "execution_count": null,
      "outputs": []
    },
    {
      "cell_type": "code",
      "metadata": {
        "colab": {
          "base_uri": "https://localhost:8080/"
        },
        "id": "jaAguEzhEu6C",
        "outputId": "6b61afb6-fff9-42c6-9c35-53309c09a9e5"
      },
      "source": [
        "for images, labels in ds_train_.take(1):\r\n",
        "  print(labels[1][1])"
      ],
      "execution_count": 55,
      "outputs": [
        {
          "output_type": "stream",
          "text": [
            "tf.Tensor(1.0, shape=(), dtype=float32)\n"
          ],
          "name": "stdout"
        }
      ]
    },
    {
      "cell_type": "code",
      "metadata": {
        "colab": {
          "base_uri": "https://localhost:8080/",
          "height": 528
        },
        "id": "idellh3p2M3b",
        "outputId": "a343686f-c433-4639-a5cf-ea1630ada008"
      },
      "source": [
        "plt.figure(figsize=(10, 10))\r\n",
        "for images, labels in ds_train_.take(1):\r\n",
        "  for i in range(9):\r\n",
        "    ax = plt.subplot(3, 3, i + 1)\r\n",
        "    plt.imshow(images[i].numpy().astype(\"uint8\"))\r\n",
        "    plt.title(class_names[labels[i]])\r\n",
        "    plt.axis(\"off\")"
      ],
      "execution_count": 56,
      "outputs": [
        {
          "output_type": "error",
          "ename": "TypeError",
          "evalue": "ignored",
          "traceback": [
            "\u001b[0;31m---------------------------------------------------------------------------\u001b[0m",
            "\u001b[0;31mTypeError\u001b[0m                                 Traceback (most recent call last)",
            "\u001b[0;32m<ipython-input-56-52a2e281793d>\u001b[0m in \u001b[0;36m<module>\u001b[0;34m()\u001b[0m\n\u001b[1;32m      4\u001b[0m     \u001b[0max\u001b[0m \u001b[0;34m=\u001b[0m \u001b[0mplt\u001b[0m\u001b[0;34m.\u001b[0m\u001b[0msubplot\u001b[0m\u001b[0;34m(\u001b[0m\u001b[0;36m3\u001b[0m\u001b[0;34m,\u001b[0m \u001b[0;36m3\u001b[0m\u001b[0;34m,\u001b[0m \u001b[0mi\u001b[0m \u001b[0;34m+\u001b[0m \u001b[0;36m1\u001b[0m\u001b[0;34m)\u001b[0m\u001b[0;34m\u001b[0m\u001b[0;34m\u001b[0m\u001b[0m\n\u001b[1;32m      5\u001b[0m     \u001b[0mplt\u001b[0m\u001b[0;34m.\u001b[0m\u001b[0mimshow\u001b[0m\u001b[0;34m(\u001b[0m\u001b[0mimages\u001b[0m\u001b[0;34m[\u001b[0m\u001b[0mi\u001b[0m\u001b[0;34m]\u001b[0m\u001b[0;34m.\u001b[0m\u001b[0mnumpy\u001b[0m\u001b[0;34m(\u001b[0m\u001b[0;34m)\u001b[0m\u001b[0;34m.\u001b[0m\u001b[0mastype\u001b[0m\u001b[0;34m(\u001b[0m\u001b[0;34m\"uint8\"\u001b[0m\u001b[0;34m)\u001b[0m\u001b[0;34m)\u001b[0m\u001b[0;34m\u001b[0m\u001b[0;34m\u001b[0m\u001b[0m\n\u001b[0;32m----> 6\u001b[0;31m     \u001b[0mplt\u001b[0m\u001b[0;34m.\u001b[0m\u001b[0mtitle\u001b[0m\u001b[0;34m(\u001b[0m\u001b[0mclass_names\u001b[0m\u001b[0;34m[\u001b[0m\u001b[0mlabels\u001b[0m\u001b[0;34m[\u001b[0m\u001b[0mi\u001b[0m\u001b[0;34m]\u001b[0m\u001b[0;34m]\u001b[0m\u001b[0;34m)\u001b[0m\u001b[0;34m\u001b[0m\u001b[0;34m\u001b[0m\u001b[0m\n\u001b[0m\u001b[1;32m      7\u001b[0m     \u001b[0mplt\u001b[0m\u001b[0;34m.\u001b[0m\u001b[0maxis\u001b[0m\u001b[0;34m(\u001b[0m\u001b[0;34m\"off\"\u001b[0m\u001b[0;34m)\u001b[0m\u001b[0;34m\u001b[0m\u001b[0;34m\u001b[0m\u001b[0m\n",
            "\u001b[0;32m/usr/local/lib/python3.6/dist-packages/tensorflow/python/framework/ops.py\u001b[0m in \u001b[0;36m__index__\u001b[0;34m(self)\u001b[0m\n\u001b[1;32m    987\u001b[0m \u001b[0;34m\u001b[0m\u001b[0m\n\u001b[1;32m    988\u001b[0m   \u001b[0;32mdef\u001b[0m \u001b[0m__index__\u001b[0m\u001b[0;34m(\u001b[0m\u001b[0mself\u001b[0m\u001b[0;34m)\u001b[0m\u001b[0;34m:\u001b[0m\u001b[0;34m\u001b[0m\u001b[0;34m\u001b[0m\u001b[0m\n\u001b[0;32m--> 989\u001b[0;31m     \u001b[0;32mreturn\u001b[0m \u001b[0mself\u001b[0m\u001b[0;34m.\u001b[0m\u001b[0m_numpy\u001b[0m\u001b[0;34m(\u001b[0m\u001b[0;34m)\u001b[0m\u001b[0;34m.\u001b[0m\u001b[0m__index__\u001b[0m\u001b[0;34m(\u001b[0m\u001b[0;34m)\u001b[0m\u001b[0;34m\u001b[0m\u001b[0;34m\u001b[0m\u001b[0m\n\u001b[0m\u001b[1;32m    990\u001b[0m \u001b[0;34m\u001b[0m\u001b[0m\n\u001b[1;32m    991\u001b[0m   \u001b[0;32mdef\u001b[0m \u001b[0m__bool__\u001b[0m\u001b[0;34m(\u001b[0m\u001b[0mself\u001b[0m\u001b[0;34m)\u001b[0m\u001b[0;34m:\u001b[0m\u001b[0;34m\u001b[0m\u001b[0;34m\u001b[0m\u001b[0m\n",
            "\u001b[0;31mTypeError\u001b[0m: only integer scalar arrays can be converted to a scalar index"
          ]
        },
        {
          "output_type": "display_data",
          "data": {
            "image/png": "[encoded data removed]",
            "text/plain": [
              "<Figure size 720x720 with 1 Axes>"
            ]
          },
          "metadata": {
            "tags": [],
            "needs_background": "light"
          }
        }
      ]
    },
    {
      "cell_type": "code",
      "metadata": {
        "id": "q1lEDbmkazJ7"
      },
      "source": [
        "from keras.models import Sequential\r\n",
        "model = Sequential([\r\n",
        "        Conv2D(filters = 32, kernel_size = (3,3), activation = 'relu', padding = 'same', input_shape = (224,224,3)),\r\n",
        "        MaxPool2D(pool_size = (2,2), strides = 2),\r\n",
        "        Conv2D(filters = 64, kernel_size = (3,3), activation = 'relu', padding = 'same'),\r\n",
        "        MaxPool2D(pool_size = (2,2), strides = 2),\r\n",
        "        Dropout(0.2),\r\n",
        "        Flatten(),\r\n",
        "        Dense(units =128, activation = 'relu'),\r\n",
        "        Dense(units =4, activation = 'softmax'),\r\n",
        "        \r\n",
        "])"
      ],
      "execution_count": 24,
      "outputs": []
    },
    {
      "cell_type": "code",
      "metadata": {
        "colab": {
          "base_uri": "https://localhost:8080/"
        },
        "id": "bn7cxsYWa8lf",
        "outputId": "084dc10b-ae38-44f0-e386-9d4eb398fa9d"
      },
      "source": [
        "model.summary()"
      ],
      "execution_count": 25,
      "outputs": [
        {
          "output_type": "stream",
          "text": [
            "Model: \"sequential\"\n",
            "_________________________________________________________________\n",
            "Layer (type)                 Output Shape              Param #   \n",
            "=================================================================\n",
            "conv2d (Conv2D)              (None, 224, 224, 32)      896       \n",
            "_________________________________________________________________\n",
            "max_pooling2d (MaxPooling2D) (None, 112, 112, 32)      0         \n",
            "_________________________________________________________________\n",
            "conv2d_1 (Conv2D)            (None, 112, 112, 64)      18496     \n",
            "_________________________________________________________________\n",
            "max_pooling2d_1 (MaxPooling2 (None, 56, 56, 64)        0         \n",
            "_________________________________________________________________\n",
            "dropout (Dropout)            (None, 56, 56, 64)        0         \n",
            "_________________________________________________________________\n",
            "flatten (Flatten)            (None, 200704)            0         \n",
            "_________________________________________________________________\n",
            "dense (Dense)                (None, 128)               25690240  \n",
            "_________________________________________________________________\n",
            "dense_1 (Dense)              (None, 4)                 516       \n",
            "=================================================================\n",
            "Total params: 25,710,148\n",
            "Trainable params: 25,710,148\n",
            "Non-trainable params: 0\n",
            "_________________________________________________________________\n"
          ],
          "name": "stdout"
        }
      ]
    },
    {
      "cell_type": "code",
      "metadata": {
        "colab": {
          "base_uri": "https://localhost:8080/"
        },
        "id": "pTw-BZs_a_I5",
        "outputId": "01faaeca-86aa-4478-ddc0-4a29b694ad62"
      },
      "source": [
        "from tensorflow.keras.optimizers import Adam\r\n",
        "\r\n",
        "model.compile(optimizer = Adam (learning_rate = 0.0001), \r\n",
        "              loss = 'categorical_crossentropy', \r\n",
        "              metrics = ['accuracy'])\r\n",
        "history = model.fit(x = ds_train, \r\n",
        "          validation_data = ds_valid, epochs = 30, \r\n",
        "          verbose = 2)\r\n"
      ],
      "execution_count": 26,
      "outputs": [
        {
          "output_type": "stream",
          "text": [
            "Epoch 1/30\n",
            "14/14 - 14s - loss: 1.7787 - accuracy: 0.2589 - val_loss: 1.4189 - val_accuracy: 0.2500\n",
            "Epoch 2/30\n",
            "14/14 - 1s - loss: 1.3775 - accuracy: 0.2780 - val_loss: 1.3833 - val_accuracy: 0.3750\n",
            "Epoch 3/30\n",
            "14/14 - 1s - loss: 1.3069 - accuracy: 0.4129 - val_loss: 1.3894 - val_accuracy: 0.4250\n",
            "Epoch 4/30\n",
            "14/14 - 1s - loss: 1.2305 - accuracy: 0.5752 - val_loss: 1.4011 - val_accuracy: 0.4000\n",
            "Epoch 5/30\n",
            "14/14 - 1s - loss: 1.1415 - accuracy: 0.6229 - val_loss: 1.3766 - val_accuracy: 0.3500\n",
            "Epoch 6/30\n",
            "14/14 - 1s - loss: 1.0469 - accuracy: 0.6647 - val_loss: 1.3690 - val_accuracy: 0.4250\n",
            "Epoch 7/30\n",
            "14/14 - 1s - loss: 0.9474 - accuracy: 0.6730 - val_loss: 1.3758 - val_accuracy: 0.3750\n",
            "Epoch 8/30\n",
            "14/14 - 1s - loss: 0.8518 - accuracy: 0.6993 - val_loss: 1.3579 - val_accuracy: 0.4250\n",
            "Epoch 9/30\n",
            "14/14 - 1s - loss: 0.7638 - accuracy: 0.7494 - val_loss: 1.3316 - val_accuracy: 0.4500\n",
            "Epoch 10/30\n",
            "14/14 - 1s - loss: 0.6946 - accuracy: 0.7816 - val_loss: 1.4541 - val_accuracy: 0.3500\n",
            "Epoch 11/30\n",
            "14/14 - 1s - loss: 0.6321 - accuracy: 0.8079 - val_loss: 1.3251 - val_accuracy: 0.4500\n",
            "Epoch 12/30\n",
            "14/14 - 1s - loss: 0.5680 - accuracy: 0.8305 - val_loss: 1.3728 - val_accuracy: 0.3750\n",
            "Epoch 13/30\n",
            "14/14 - 1s - loss: 0.5096 - accuracy: 0.8592 - val_loss: 1.3175 - val_accuracy: 0.4250\n",
            "Epoch 14/30\n",
            "14/14 - 1s - loss: 0.4761 - accuracy: 0.8807 - val_loss: 1.5099 - val_accuracy: 0.4250\n",
            "Epoch 15/30\n",
            "14/14 - 1s - loss: 0.4363 - accuracy: 0.8831 - val_loss: 1.3552 - val_accuracy: 0.4000\n",
            "Epoch 16/30\n",
            "14/14 - 1s - loss: 0.3831 - accuracy: 0.9165 - val_loss: 1.3677 - val_accuracy: 0.4250\n",
            "Epoch 17/30\n",
            "14/14 - 1s - loss: 0.3553 - accuracy: 0.9212 - val_loss: 1.4754 - val_accuracy: 0.4250\n",
            "Epoch 18/30\n",
            "14/14 - 1s - loss: 0.3306 - accuracy: 0.9320 - val_loss: 1.4833 - val_accuracy: 0.4250\n",
            "Epoch 19/30\n",
            "14/14 - 1s - loss: 0.3296 - accuracy: 0.9236 - val_loss: 1.7335 - val_accuracy: 0.3750\n",
            "Epoch 20/30\n",
            "14/14 - 1s - loss: 0.3659 - accuracy: 0.8878 - val_loss: 1.6680 - val_accuracy: 0.3750\n",
            "Epoch 21/30\n",
            "14/14 - 1s - loss: 0.3313 - accuracy: 0.9093 - val_loss: 1.6130 - val_accuracy: 0.4500\n",
            "Epoch 22/30\n",
            "14/14 - 1s - loss: 0.2789 - accuracy: 0.9344 - val_loss: 1.5656 - val_accuracy: 0.5000\n",
            "Epoch 23/30\n",
            "14/14 - 1s - loss: 0.2599 - accuracy: 0.9415 - val_loss: 1.8466 - val_accuracy: 0.4000\n",
            "Epoch 24/30\n",
            "14/14 - 1s - loss: 0.2848 - accuracy: 0.9248 - val_loss: 1.9068 - val_accuracy: 0.4000\n",
            "Epoch 25/30\n",
            "14/14 - 1s - loss: 0.3045 - accuracy: 0.9105 - val_loss: 1.8909 - val_accuracy: 0.4000\n",
            "Epoch 26/30\n",
            "14/14 - 1s - loss: 0.3244 - accuracy: 0.8998 - val_loss: 1.5247 - val_accuracy: 0.5000\n",
            "Epoch 27/30\n",
            "14/14 - 1s - loss: 0.2903 - accuracy: 0.9200 - val_loss: 1.4347 - val_accuracy: 0.4250\n",
            "Epoch 28/30\n",
            "14/14 - 1s - loss: 0.2126 - accuracy: 0.9523 - val_loss: 1.5051 - val_accuracy: 0.4000\n",
            "Epoch 29/30\n",
            "14/14 - 1s - loss: 0.1875 - accuracy: 0.9618 - val_loss: 1.4901 - val_accuracy: 0.4500\n",
            "Epoch 30/30\n",
            "14/14 - 1s - loss: 0.1786 - accuracy: 0.9702 - val_loss: 1.4649 - val_accuracy: 0.4250\n"
          ],
          "name": "stdout"
        }
      ]
    },
    {
      "cell_type": "code",
      "metadata": {
        "colab": {
          "base_uri": "https://localhost:8080/",
          "height": 516
        },
        "id": "xdclgcVBbMMP",
        "outputId": "0fef32c4-588d-417a-887c-3672ec1b9729"
      },
      "source": [
        "import pandas as pd\r\n",
        "\r\n",
        "history_frame = pd.DataFrame(history.history)\r\n",
        "history_frame.loc[:, ['loss', 'val_loss']].plot()\r\n",
        "history_frame.loc[:, ['accuracy', 'val_accuracy']].plot();"
      ],
      "execution_count": 27,
      "outputs": [
        {
          "output_type": "display_data",
          "data": {
            "image/png": "[encoded data removed]",
            "text/plain": [
              "<Figure size 432x288 with 1 Axes>"
            ]
          },
          "metadata": {
            "tags": [],
            "needs_background": "light"
          }
        },
        {
          "output_type": "display_data",
          "data": {
            "image/png": "[encoded data removed]",
            "text/plain": [
              "<Figure size 432x288 with 1 Axes>"
            ]
          },
          "metadata": {
            "tags": [],
            "needs_background": "light"
          }
        }
      ]
    },
    {
      "cell_type": "code",
      "metadata": {
        "id": "iQaD6oLh8RAz"
      },
      "source": [
        "predictions = model.predict (x = ds_test, verbose = 0)"
      ],
      "execution_count": 30,
      "outputs": []
    },
    {
      "cell_type": "code",
      "metadata": {
        "colab": {
          "base_uri": "https://localhost:8080/"
        },
        "id": "3BPZv3SB8ZCn",
        "outputId": "2aae0486-9ce2-4617-9fbb-cce0f3722e2f"
      },
      "source": [
        "np.round(predictions)"
      ],
      "execution_count": 31,
      "outputs": [
        {
          "output_type": "execute_result",
          "data": {
            "text/plain": [
              "array([[0., 1., 0., 0.],\n",
              "       [0., 0., 1., 0.],\n",
              "       [0., 0., 0., 0.],\n",
              "       [0., 1., 0., 0.],\n",
              "       [1., 0., 0., 0.],\n",
              "       [1., 0., 0., 0.],\n",
              "       [0., 0., 0., 1.],\n",
              "       [0., 0., 0., 1.],\n",
              "       [0., 1., 0., 0.],\n",
              "       [0., 0., 1., 0.],\n",
              "       [0., 0., 0., 0.],\n",
              "       [0., 1., 0., 0.],\n",
              "       [1., 0., 0., 0.],\n",
              "       [0., 1., 0., 0.],\n",
              "       [0., 1., 0., 0.],\n",
              "       [0., 1., 0., 0.],\n",
              "       [0., 1., 0., 0.],\n",
              "       [0., 1., 0., 0.],\n",
              "       [0., 0., 1., 0.],\n",
              "       [0., 1., 0., 0.],\n",
              "       [0., 1., 0., 0.],\n",
              "       [0., 0., 1., 0.],\n",
              "       [0., 0., 1., 0.],\n",
              "       [0., 0., 1., 0.],\n",
              "       [0., 0., 1., 0.],\n",
              "       [0., 0., 1., 0.],\n",
              "       [0., 0., 1., 0.],\n",
              "       [0., 0., 0., 0.],\n",
              "       [0., 0., 1., 0.],\n",
              "       [0., 0., 1., 0.],\n",
              "       [0., 0., 1., 0.],\n",
              "       [0., 0., 0., 1.],\n",
              "       [0., 0., 0., 1.],\n",
              "       [0., 1., 0., 0.],\n",
              "       [0., 0., 0., 0.],\n",
              "       [0., 0., 0., 1.],\n",
              "       [0., 0., 0., 1.],\n",
              "       [0., 0., 1., 0.],\n",
              "       [0., 0., 0., 1.],\n",
              "       [0., 1., 0., 0.],\n",
              "       [0., 0., 0., 1.]], dtype=float32)"
            ]
          },
          "metadata": {
            "tags": []
          },
          "execution_count": 31
        }
      ]
    },
    {
      "cell_type": "code",
      "metadata": {
        "colab": {
          "base_uri": "https://localhost:8080/"
        },
        "id": "Sc_q8V5M8_sm",
        "outputId": "dbda47e0-f581-4235-c360-eed6f9a99560"
      },
      "source": [
        "for image, label in ds_test_:\r\n",
        "  print(label)"
      ],
      "execution_count": 36,
      "outputs": [
        {
          "output_type": "stream",
          "text": [
            "tf.Tensor(\n",
            "[[1. 0. 0. 0.]\n",
            " [1. 0. 0. 0.]\n",
            " [1. 0. 0. 0.]\n",
            " [1. 0. 0. 0.]\n",
            " [1. 0. 0. 0.]\n",
            " [1. 0. 0. 0.]\n",
            " [1. 0. 0. 0.]\n",
            " [1. 0. 0. 0.]\n",
            " [1. 0. 0. 0.]\n",
            " [1. 0. 0. 0.]\n",
            " [0. 1. 0. 0.]\n",
            " [0. 1. 0. 0.]\n",
            " [0. 1. 0. 0.]\n",
            " [0. 1. 0. 0.]\n",
            " [0. 1. 0. 0.]\n",
            " [0. 1. 0. 0.]\n",
            " [0. 1. 0. 0.]\n",
            " [0. 1. 0. 0.]\n",
            " [0. 1. 0. 0.]\n",
            " [0. 1. 0. 0.]\n",
            " [0. 1. 0. 0.]\n",
            " [0. 0. 1. 0.]\n",
            " [0. 0. 1. 0.]\n",
            " [0. 0. 1. 0.]\n",
            " [0. 0. 1. 0.]\n",
            " [0. 0. 1. 0.]\n",
            " [0. 0. 1. 0.]\n",
            " [0. 0. 1. 0.]\n",
            " [0. 0. 1. 0.]\n",
            " [0. 0. 1. 0.]\n",
            " [0. 0. 1. 0.]\n",
            " [0. 0. 0. 1.]\n",
            " [0. 0. 0. 1.]\n",
            " [0. 0. 0. 1.]\n",
            " [0. 0. 0. 1.]\n",
            " [0. 0. 0. 1.]\n",
            " [0. 0. 0. 1.]\n",
            " [0. 0. 0. 1.]\n",
            " [0. 0. 0. 1.]\n",
            " [0. 0. 0. 1.]\n",
            " [0. 0. 0. 1.]], shape=(41, 4), dtype=float32)\n"
          ],
          "name": "stdout"
        }
      ]
    },
    {
      "cell_type": "code",
      "metadata": {
        "id": "1plcHgoJ8KVd"
      },
      "source": [
        "cm = confusion_matrix(y_true = test_batches.classes, y_pred = np.argmax(predictions, axis = -1))"
      ],
      "execution_count": null,
      "outputs": []
    },
    {
      "cell_type": "code",
      "metadata": {
        "colab": {
          "base_uri": "https://localhost:8080/"
        },
        "id": "7Ut5NRMJ7XWk",
        "outputId": "5a63d156-75d3-4e1b-b990-c7c81ca673ac"
      },
      "source": [
        ""
      ],
      "execution_count": 29,
      "outputs": [
        {
          "output_type": "stream",
          "text": [
            "This image most likely belongs to childs with a 34.08 percent confidence.\n"
          ],
          "name": "stdout"
        }
      ]
    }
  ]
}