{
  "nbformat": 4,
  "nbformat_minor": 0,
  "metadata": {
    "accelerator": "GPU",
    "colab": {
      "name": "Yoga image classification",
      "provenance": [],
      "authorship_tag": "ABX9TyPwbvAt/yZjpyFyTpz3Dlii",
      "include_colab_link": true
    },
    "kernelspec": {
      "display_name": "Python 3",
      "name": "python3"
    }
  },
  "cells": [
    {
      "cell_type": "markdown",
      "metadata": {
        "id": "view-in-github",
        "colab_type": "text"
      },
      "source": [
        "<a href=\"https://colab.research.google.com/github/nmshafie1993/detect_yoga_pose/blob/master/Yoga_image_classification.ipynb\" target=\"_parent\"><img src=\"https://colab.research.google.com/assets/colab-badge.svg\" alt=\"Open In Colab\"/></a>"
      ]
    },
    {
      "cell_type": "code",
      "metadata": {
        "colab": {
          "base_uri": "https://localhost:8080/"
        },
        "id": "45_Y6fH4yMXI",
        "outputId": "cb122ca1-e6b9-4a7f-c700-f78fbea1729c"
      },
      "source": [
        "#loading the Libraries\r\n",
        "import math, re, os\r\n",
        "import numpy as np\r\n",
        "import pandas as pd\r\n",
        "import tensorflow as tf\r\n",
        "import pathlib\r\n",
        "import PIL\r\n",
        "import matplotlib.pyplot as plt\r\n",
        "from tensorflow.keras.preprocessing import image_dataset_from_directory\r\n",
        "from tensorflow.keras.layers import Activation, Dense, Flatten, BatchNormalization, Conv2D, MaxPool2D\r\n",
        "import tensorflow.keras.layers.experimental.preprocessing as preprocessing\r\n",
        "import shutil\r\n",
        "\r\n",
        "print(\"Tensorflow version \" + tf.__version__)"
      ],
      "execution_count": 132,
      "outputs": [
        {
          "output_type": "stream",
          "text": [
            "Tensorflow version 2.4.0\n"
          ],
          "name": "stdout"
        }
      ]
    },
    {
      "cell_type": "code",
      "metadata": {
        "id": "XnoqApXlOdsB"
      },
      "source": [
        "shutil.rmtree('/content/detect_yoga_pose')"
      ],
      "execution_count": 133,
      "outputs": []
    },
    {
      "cell_type": "code",
      "metadata": {
        "id": "2yPn1dzFyZyG",
        "outputId": "68a22921-068b-47bb-8800-abb0d3fa58f1",
        "colab": {
          "base_uri": "https://localhost:8080/"
        }
      },
      "source": [
        "#cloning the data from github\r\n",
        "!git clone \"https://github.com/nmshafie1993/detect_yoga_pose.git\""
      ],
      "execution_count": 134,
      "outputs": [
        {
          "output_type": "stream",
          "text": [
            "Cloning into 'detect_yoga_pose'...\n",
            "remote: Enumerating objects: 36, done.\u001b[K\n",
            "remote: Counting objects: 100% (36/36), done.\u001b[K\n",
            "remote: Compressing objects: 100% (26/26), done.\u001b[K\n",
            "remote: Total 1240 (delta 12), reused 31 (delta 10), pack-reused 1204\u001b[K\n",
            "Receiving objects: 100% (1240/1240), 136.65 MiB | 44.16 MiB/s, done.\n",
            "Resolving deltas: 100% (157/157), done.\n"
          ],
          "name": "stdout"
        }
      ]
    },
    {
      "cell_type": "code",
      "metadata": {
        "colab": {
          "base_uri": "https://localhost:8080/"
        },
        "id": "Y83kx2Vb2EHs",
        "outputId": "5610f1fc-933c-4a81-b331-3b7ee0a30ede"
      },
      "source": [
        "ds_train_ = image_dataset_from_directory(\r\n",
        "    '/content/detect_yoga_pose/Train_Set',\r\n",
        "    labels='inferred',\r\n",
        "    label_mode='categorical',\r\n",
        "    image_size=[224, 224],\r\n",
        "    interpolation='nearest',\r\n",
        "    batch_size=64,\r\n",
        "    shuffle=True,\r\n",
        ")\r\n",
        "ds_valid_ = image_dataset_from_directory(\r\n",
        "    '/content/detect_yoga_pose/Test_Set',\r\n",
        "    labels='inferred',\r\n",
        "    label_mode='categorical',\r\n",
        "    image_size=[224, 224],\r\n",
        "    interpolation='nearest',\r\n",
        "    batch_size=64,\r\n",
        "    shuffle=False,\r\n",
        ")"
      ],
      "execution_count": 135,
      "outputs": [
        {
          "output_type": "stream",
          "text": [
            "Found 868 files belonging to 4 classes.\n",
            "Found 75 files belonging to 4 classes.\n"
          ],
          "name": "stdout"
        }
      ]
    },
    {
      "cell_type": "code",
      "metadata": {
        "id": "P3HQ54TWPAf6"
      },
      "source": [
        "# Data Pipeline\r\n",
        "def convert_to_float(image, label):\r\n",
        "    image = tf.image.convert_image_dtype(image, dtype=tf.float32)\r\n",
        "    return image, label\r\n",
        "\r\n",
        "AUTOTUNE = tf.data.experimental.AUTOTUNE\r\n",
        "ds_train = (\r\n",
        "    ds_train_\r\n",
        "    .map(convert_to_float)\r\n",
        "    .cache()\r\n",
        "    .prefetch(buffer_size=AUTOTUNE)\r\n",
        ")\r\n",
        "ds_valid = (\r\n",
        "    ds_valid_\r\n",
        "    .map(convert_to_float)\r\n",
        "    .cache()\r\n",
        "    .prefetch(buffer_size=AUTOTUNE)\r\n",
        ")"
      ],
      "execution_count": 137,
      "outputs": []
    },
    {
      "cell_type": "code",
      "metadata": {
        "id": "J1S4iBT7lpEz"
      },
      "source": [
        "model = Sequential([\r\n",
        "        Conv2D(filters = 32, kernel_size = (3,3), activation = 'relu', padding = 'same', input_shape = (224,224,3)),\r\n",
        "        MaxPool2D(pool_size = (2,2), strides = 2),\r\n",
        "        Conv2D(filters = 64, kernel_size = (3,3), activation = 'relu', padding = 'same'),\r\n",
        "        MaxPool2D(pool_size = (2,2), strides = 2),\r\n",
        "        Flatten(),\r\n",
        "        Dense(units =128, activation = 'relu'),\r\n",
        "        Dense(units =4, activation = 'softmax'),\r\n",
        "        \r\n",
        "])"
      ],
      "execution_count": 138,
      "outputs": []
    },
    {
      "cell_type": "code",
      "metadata": {
        "id": "r0_Ys4WOl1iJ",
        "outputId": "3d03977e-5092-4efc-d649-89aee6c48868",
        "colab": {
          "base_uri": "https://localhost:8080/"
        }
      },
      "source": [
        "model.summary()"
      ],
      "execution_count": 139,
      "outputs": [
        {
          "output_type": "stream",
          "text": [
            "Model: \"sequential_32\"\n",
            "_________________________________________________________________\n",
            "Layer (type)                 Output Shape              Param #   \n",
            "=================================================================\n",
            "conv2d_29 (Conv2D)           (None, 224, 224, 32)      896       \n",
            "_________________________________________________________________\n",
            "max_pooling2d_27 (MaxPooling (None, 112, 112, 32)      0         \n",
            "_________________________________________________________________\n",
            "conv2d_30 (Conv2D)           (None, 112, 112, 64)      18496     \n",
            "_________________________________________________________________\n",
            "max_pooling2d_28 (MaxPooling (None, 56, 56, 64)        0         \n",
            "_________________________________________________________________\n",
            "flatten_20 (Flatten)         (None, 200704)            0         \n",
            "_________________________________________________________________\n",
            "dense_38 (Dense)             (None, 128)               25690240  \n",
            "_________________________________________________________________\n",
            "dense_39 (Dense)             (None, 4)                 516       \n",
            "=================================================================\n",
            "Total params: 25,710,148\n",
            "Trainable params: 25,710,148\n",
            "Non-trainable params: 0\n",
            "_________________________________________________________________\n"
          ],
          "name": "stdout"
        }
      ]
    },
    {
      "cell_type": "code",
      "metadata": {
        "id": "cQ4yLmLLmF1P",
        "outputId": "a886958e-54ba-4533-8a20-b37f8b08d7bb",
        "colab": {
          "base_uri": "https://localhost:8080/"
        }
      },
      "source": [
        "model.compile(optimizer = Adam (learning_rate = 0.0001), \r\n",
        "              loss = 'categorical_crossentropy', \r\n",
        "              metrics = ['accuracy'])\r\n",
        "model.fit(x = ds_train, \r\n",
        "          validation_data = ds_valid, epochs = 30, \r\n",
        "          verbose = 2)"
      ],
      "execution_count": 143,
      "outputs": [
        {
          "output_type": "stream",
          "text": [
            "Epoch 1/30\n",
            "14/14 - 2s - loss: 0.7101 - accuracy: 0.7512 - val_loss: 0.9537 - val_accuracy: 0.5867\n",
            "Epoch 2/30\n",
            "14/14 - 1s - loss: 0.6635 - accuracy: 0.7995 - val_loss: 0.9548 - val_accuracy: 0.6400\n",
            "Epoch 3/30\n",
            "14/14 - 1s - loss: 0.6256 - accuracy: 0.8134 - val_loss: 0.9330 - val_accuracy: 0.6533\n",
            "Epoch 4/30\n",
            "14/14 - 1s - loss: 0.5977 - accuracy: 0.8272 - val_loss: 0.9296 - val_accuracy: 0.6400\n",
            "Epoch 5/30\n",
            "14/14 - 1s - loss: 0.5789 - accuracy: 0.8329 - val_loss: 0.9207 - val_accuracy: 0.6400\n",
            "Epoch 6/30\n",
            "14/14 - 1s - loss: 0.5562 - accuracy: 0.8399 - val_loss: 0.9174 - val_accuracy: 0.6400\n",
            "Epoch 7/30\n",
            "14/14 - 1s - loss: 0.5385 - accuracy: 0.8410 - val_loss: 0.9199 - val_accuracy: 0.6400\n",
            "Epoch 8/30\n",
            "14/14 - 1s - loss: 0.5194 - accuracy: 0.8502 - val_loss: 0.9178 - val_accuracy: 0.6533\n",
            "Epoch 9/30\n",
            "14/14 - 1s - loss: 0.5003 - accuracy: 0.8594 - val_loss: 0.9156 - val_accuracy: 0.6533\n",
            "Epoch 10/30\n",
            "14/14 - 1s - loss: 0.4985 - accuracy: 0.8583 - val_loss: 0.9276 - val_accuracy: 0.6667\n",
            "Epoch 11/30\n",
            "14/14 - 1s - loss: 0.4729 - accuracy: 0.8664 - val_loss: 0.9187 - val_accuracy: 0.6533\n",
            "Epoch 12/30\n",
            "14/14 - 1s - loss: 0.4394 - accuracy: 0.8802 - val_loss: 0.9235 - val_accuracy: 0.6533\n",
            "Epoch 13/30\n",
            "14/14 - 1s - loss: 0.4292 - accuracy: 0.8790 - val_loss: 0.9182 - val_accuracy: 0.6533\n",
            "Epoch 14/30\n",
            "14/14 - 1s - loss: 0.4162 - accuracy: 0.8894 - val_loss: 0.9212 - val_accuracy: 0.6400\n",
            "Epoch 15/30\n",
            "14/14 - 1s - loss: 0.3973 - accuracy: 0.8917 - val_loss: 0.9232 - val_accuracy: 0.6400\n",
            "Epoch 16/30\n",
            "14/14 - 1s - loss: 0.3810 - accuracy: 0.8975 - val_loss: 0.9227 - val_accuracy: 0.6533\n",
            "Epoch 17/30\n",
            "14/14 - 1s - loss: 0.3653 - accuracy: 0.9055 - val_loss: 0.9254 - val_accuracy: 0.6533\n",
            "Epoch 18/30\n",
            "14/14 - 1s - loss: 0.3515 - accuracy: 0.9078 - val_loss: 0.9355 - val_accuracy: 0.6400\n",
            "Epoch 19/30\n",
            "14/14 - 1s - loss: 0.3365 - accuracy: 0.9263 - val_loss: 0.9393 - val_accuracy: 0.6400\n",
            "Epoch 20/30\n",
            "14/14 - 1s - loss: 0.3230 - accuracy: 0.9286 - val_loss: 0.9286 - val_accuracy: 0.6533\n",
            "Epoch 21/30\n",
            "14/14 - 1s - loss: 0.3056 - accuracy: 0.9251 - val_loss: 0.9267 - val_accuracy: 0.6533\n",
            "Epoch 22/30\n",
            "14/14 - 1s - loss: 0.2911 - accuracy: 0.9320 - val_loss: 0.9314 - val_accuracy: 0.6667\n",
            "Epoch 23/30\n",
            "14/14 - 1s - loss: 0.2778 - accuracy: 0.9447 - val_loss: 0.9391 - val_accuracy: 0.6667\n",
            "Epoch 24/30\n",
            "14/14 - 1s - loss: 0.2660 - accuracy: 0.9470 - val_loss: 0.9451 - val_accuracy: 0.6667\n",
            "Epoch 25/30\n",
            "14/14 - 1s - loss: 0.2538 - accuracy: 0.9539 - val_loss: 0.9553 - val_accuracy: 0.6533\n",
            "Epoch 26/30\n",
            "14/14 - 1s - loss: 0.2415 - accuracy: 0.9585 - val_loss: 0.9511 - val_accuracy: 0.6800\n",
            "Epoch 27/30\n",
            "14/14 - 1s - loss: 0.2277 - accuracy: 0.9585 - val_loss: 0.9532 - val_accuracy: 0.6800\n",
            "Epoch 28/30\n",
            "14/14 - 1s - loss: 0.2167 - accuracy: 0.9631 - val_loss: 0.9589 - val_accuracy: 0.6800\n",
            "Epoch 29/30\n",
            "14/14 - 1s - loss: 0.2066 - accuracy: 0.9631 - val_loss: 0.9638 - val_accuracy: 0.6800\n",
            "Epoch 30/30\n",
            "14/14 - 1s - loss: 0.1968 - accuracy: 0.9677 - val_loss: 0.9721 - val_accuracy: 0.6800\n"
          ],
          "name": "stdout"
        },
        {
          "output_type": "execute_result",
          "data": {
            "text/plain": [
              "<tensorflow.python.keras.callbacks.History at 0x7feb884a1c18>"
            ]
          },
          "metadata": {
            "tags": []
          },
          "execution_count": 143
        }
      ]
    },
    {
      "cell_type": "code",
      "metadata": {
        "id": "xJlqyLqWkFQe",
        "outputId": "8ceaf95b-1f3a-461d-9dbd-13f83999ed8f",
        "colab": {
          "base_uri": "https://localhost:8080/",
          "height": 513
        }
      },
      "source": [
        "import pandas as pd\r\n",
        "\r\n",
        "history_frame = pd.DataFrame(history.history)\r\n",
        "history_frame.loc[:, ['loss', 'val_loss']].plot()\r\n",
        "history_frame.loc[:, ['accuracy', 'val_accuracy']].plot();"
      ],
      "execution_count": 144,
      "outputs": [
        {
          "output_type": "display_data",
          "data": {
            "image/png": "[encoded data removed]",
            "text/plain": [
              "<Figure size 432x288 with 1 Axes>"
            ]
          },
          "metadata": {
            "tags": [],
            "needs_background": "light"
          }
        },
        {
          "output_type": "display_data",
          "data": {
            "image/png": "[encoded data removed]",
            "text/plain": [
              "<Figure size 432x288 with 1 Axes>"
            ]
          },
          "metadata": {
            "tags": [],
            "needs_background": "light"
          }
        }
      ]
    }
  ]
}